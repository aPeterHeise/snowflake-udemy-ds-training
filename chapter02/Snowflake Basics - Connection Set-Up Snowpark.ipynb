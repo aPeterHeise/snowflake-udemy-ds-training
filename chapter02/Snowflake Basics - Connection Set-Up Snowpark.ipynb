{
 "cells": [
  {
   "cell_type": "markdown",
   "id": "824005bc",
   "metadata": {},
   "source": [
    "# Snowflake Basics - Connecting with Snowpark\n",
    "To our first notebook as part of our training series for Snowflake Data Science training on Udemy.\n",
    "\n",
    "**SnowPro Advanced: Data Scientist Exam Prep**\n",
    "\n",
    "Learn everything you need to pass the Snowflake SnowPro Advanced: Data Scientist certification. Training by Peter Heise.\n",
    "\n",
    "\n",
    "#### More Reading:\n",
    "For more docs and help around Snowpark see here https://docs.snowflake.com/en/developer-guide/snowpark/python/setup.html\n"
   ]
  },
  {
   "cell_type": "markdown",
   "id": "dd4dd3fa",
   "metadata": {},
   "source": [
    "### Install"
   ]
  },
  {
   "cell_type": "markdown",
   "id": "2e564275",
   "metadata": {},
   "source": [
    "Before starting this notebook, please made sure all requirements are installed:\n"
   ]
  },
  {
   "cell_type": "code",
   "execution_count": null,
   "id": "99bf27b6",
   "metadata": {},
   "outputs": [],
   "source": [
    "!pip install \"snowflake-snowpark-python[pandas]\""
   ]
  },
  {
   "cell_type": "code",
   "execution_count": 13,
   "id": "08bd6aa9",
   "metadata": {},
   "outputs": [],
   "source": [
    "import json, sys\n",
    "assert sys.version_info != (3, 8), \"You really need to run Python 3.8 for this code.\""
   ]
  },
  {
   "cell_type": "code",
   "execution_count": null,
   "id": "7c56537d",
   "metadata": {},
   "outputs": [],
   "source": [
    "connection_parameters = {\n",
    "  \"account\": \"<hostname>\",\n",
    "  \"user\": \"<username>\",\n",
    "  \"password\": \"<password>\",\n",
    "  \"role\": \"ACCOUNTADMIN\",\n",
    "  \"warehouse\": \"PUBLIC\",\n",
    "  \"database\": \"DEMO\",\n",
    "  \"schema\": \"UDEMY\"\n",
    "}"
   ]
  },
  {
   "cell_type": "code",
   "execution_count": 14,
   "id": "6cbe93fa",
   "metadata": {},
   "outputs": [
    {
     "data": {
      "text/html": [
       "<div>\n",
       "<style scoped>\n",
       "    .dataframe tbody tr th:only-of-type {\n",
       "        vertical-align: middle;\n",
       "    }\n",
       "\n",
       "    .dataframe tbody tr th {\n",
       "        vertical-align: top;\n",
       "    }\n",
       "\n",
       "    .dataframe thead th {\n",
       "        text-align: right;\n",
       "    }\n",
       "</style>\n",
       "<table border=\"1\" class=\"dataframe\">\n",
       "  <thead>\n",
       "    <tr style=\"text-align: right;\">\n",
       "      <th></th>\n",
       "      <th>CURRENT_VERSION()</th>\n",
       "    </tr>\n",
       "  </thead>\n",
       "  <tbody>\n",
       "    <tr>\n",
       "      <th>0</th>\n",
       "      <td>6.38.3</td>\n",
       "    </tr>\n",
       "  </tbody>\n",
       "</table>\n",
       "</div>"
      ],
      "text/plain": [
       "  CURRENT_VERSION()\n",
       "0            6.38.3"
      ]
     },
     "execution_count": 14,
     "metadata": {},
     "output_type": "execute_result"
    }
   ],
   "source": [
    "from snowflake.snowpark import Session\n",
    "\n",
    "session = Session.builder.configs(connection_parameters).create()\n",
    "\n",
    "df = session.sql(\"SELECT current_version()\")\n",
    "\n",
    "pandas_df = df.to_pandas()  # this requires pandas installed in the Python environment\n",
    "\n",
    "pandas_df.head()"
   ]
  }
 ],
 "metadata": {
  "kernelspec": {
   "display_name": "Python 3 (ipykernel)",
   "language": "python",
   "name": "python3"
  },
  "language_info": {
   "codemirror_mode": {
    "name": "ipython",
    "version": 3
   },
   "file_extension": ".py",
   "mimetype": "text/x-python",
   "name": "python",
   "nbconvert_exporter": "python",
   "pygments_lexer": "ipython3",
   "version": "3.8.15"
  }
 },
 "nbformat": 4,
 "nbformat_minor": 5
}
