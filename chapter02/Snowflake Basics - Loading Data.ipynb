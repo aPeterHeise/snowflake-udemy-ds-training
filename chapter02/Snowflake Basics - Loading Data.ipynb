{
 "cells": [
  {
   "cell_type": "markdown",
   "id": "824005bc",
   "metadata": {},
   "source": [
    "# Snowflake Basics - Loading Data\n",
    "To our first notebook as part of our training series for Snowflake Data Science training on Udemy.\n",
    "\n",
    "**SnowPro Advanced: Data Scientist Exam Prep**\n",
    "\n",
    "Learn everything you need to pass the Snowflake SnowPro Advanced: Data Scientist certification. Training by Peter Heise.\n"
   ]
  },
  {
   "cell_type": "markdown",
   "id": "dd4dd3fa",
   "metadata": {},
   "source": [
    "### Install"
   ]
  },
  {
   "cell_type": "markdown",
   "id": "2e564275",
   "metadata": {},
   "source": [
    "Before starting this notebook, please made sure all requirements are installed:\n"
   ]
  },
  {
   "cell_type": "code",
   "execution_count": null,
   "id": "99bf27b6",
   "metadata": {},
   "outputs": [],
   "source": [
    "!pip install sqlalchemy snowflake-sqlalchemy pandas"
   ]
  },
  {
   "cell_type": "markdown",
   "id": "5bc4c00d",
   "metadata": {},
   "source": [
    "### Do the data load\n",
    "We are downloading an open source dataset from https://github.com/Opensourcefordatascience for us to upload data into Snowflake."
   ]
  },
  {
   "cell_type": "code",
   "execution_count": 38,
   "id": "2434c26f",
   "metadata": {},
   "outputs": [],
   "source": [
    "import pandas as pd\n",
    "blood_pressure = pd.read_csv(\"https://raw.githubusercontent.com/Opensourcefordatascience/Data-sets/master/blood_pressure.csv\")"
   ]
  },
  {
   "cell_type": "code",
   "execution_count": 39,
   "id": "a21af132",
   "metadata": {},
   "outputs": [
    {
     "data": {
      "text/html": [
       "<div>\n",
       "<style scoped>\n",
       "    .dataframe tbody tr th:only-of-type {\n",
       "        vertical-align: middle;\n",
       "    }\n",
       "\n",
       "    .dataframe tbody tr th {\n",
       "        vertical-align: top;\n",
       "    }\n",
       "\n",
       "    .dataframe thead th {\n",
       "        text-align: right;\n",
       "    }\n",
       "</style>\n",
       "<table border=\"1\" class=\"dataframe\">\n",
       "  <thead>\n",
       "    <tr style=\"text-align: right;\">\n",
       "      <th></th>\n",
       "      <th>patient</th>\n",
       "      <th>sex</th>\n",
       "      <th>agegrp</th>\n",
       "      <th>bp_before</th>\n",
       "      <th>bp_after</th>\n",
       "    </tr>\n",
       "  </thead>\n",
       "  <tbody>\n",
       "    <tr>\n",
       "      <th>0</th>\n",
       "      <td>1</td>\n",
       "      <td>Male</td>\n",
       "      <td>30-45</td>\n",
       "      <td>143</td>\n",
       "      <td>153</td>\n",
       "    </tr>\n",
       "    <tr>\n",
       "      <th>1</th>\n",
       "      <td>2</td>\n",
       "      <td>Male</td>\n",
       "      <td>30-45</td>\n",
       "      <td>163</td>\n",
       "      <td>170</td>\n",
       "    </tr>\n",
       "    <tr>\n",
       "      <th>2</th>\n",
       "      <td>3</td>\n",
       "      <td>Male</td>\n",
       "      <td>30-45</td>\n",
       "      <td>153</td>\n",
       "      <td>168</td>\n",
       "    </tr>\n",
       "    <tr>\n",
       "      <th>3</th>\n",
       "      <td>4</td>\n",
       "      <td>Male</td>\n",
       "      <td>30-45</td>\n",
       "      <td>153</td>\n",
       "      <td>142</td>\n",
       "    </tr>\n",
       "    <tr>\n",
       "      <th>4</th>\n",
       "      <td>5</td>\n",
       "      <td>Male</td>\n",
       "      <td>30-45</td>\n",
       "      <td>146</td>\n",
       "      <td>141</td>\n",
       "    </tr>\n",
       "  </tbody>\n",
       "</table>\n",
       "</div>"
      ],
      "text/plain": [
       "   patient   sex agegrp  bp_before  bp_after\n",
       "0        1  Male  30-45        143       153\n",
       "1        2  Male  30-45        163       170\n",
       "2        3  Male  30-45        153       168\n",
       "3        4  Male  30-45        153       142\n",
       "4        5  Male  30-45        146       141"
      ]
     },
     "execution_count": 39,
     "metadata": {},
     "output_type": "execute_result"
    }
   ],
   "source": [
    "blood_pressure.head()"
   ]
  },
  {
   "cell_type": "code",
   "execution_count": null,
   "id": "6cbe93fa",
   "metadata": {},
   "outputs": [],
   "source": [
    "## Does not work today - ipython-sql, there is a bug :(\n",
    "#%load_ext sql\n",
    "#%sql -persist blood_pressure"
   ]
  },
  {
   "cell_type": "code",
   "execution_count": 40,
   "id": "be9e737d",
   "metadata": {},
   "outputs": [],
   "source": [
    "from sqlalchemy import create_engine\n",
    "\n",
    "### Workaround for SqlAlchemy\n",
    "\n",
    "engine = create_engine(DATABASE_URL)\n",
    "\n",
    "with engine.connect() as conn:\n",
    "    blood_pressure.to_sql('blood_pressure', con=conn, index=False) #make sure index is False, Snowflake doesnt accept indexes\n"
   ]
  }
 ],
 "metadata": {
  "kernelspec": {
   "display_name": "Python 3 (ipykernel)",
   "language": "python",
   "name": "python3"
  },
  "language_info": {
   "codemirror_mode": {
    "name": "ipython",
    "version": 3
   },
   "file_extension": ".py",
   "mimetype": "text/x-python",
   "name": "python",
   "nbconvert_exporter": "python",
   "pygments_lexer": "ipython3",
   "version": "3.8.15"
  }
 },
 "nbformat": 4,
 "nbformat_minor": 5
}
