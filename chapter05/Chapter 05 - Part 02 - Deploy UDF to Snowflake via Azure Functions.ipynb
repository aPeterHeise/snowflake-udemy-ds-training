{
 "cells": [
  {
   "cell_type": "markdown",
   "id": "824005bc",
   "metadata": {},
   "source": [
    "# Chapter 5 - Part 2: Deploy UDF to Snowflake via Azure Functions\n",
    "\n",
    "Welcome to chapter 5 of our Snowflake Data Scientist training series.\n",
    "\n",
    "In chapter 5 we will look at model deployment options. The code is structured into three parts:\n",
    "- Part 1: We train a model and save its binary file to disk, called the \"pickle file\".\n",
    "- Part 2: We deploy the pickle file to an Azure Function and call it via API Integration from Snowflake\n",
    "- Part 3: We deploy the pickle file directly to Snowflake using SnowPark.\n",
    "\n",
    "Happy coding!\n"
   ]
  },
  {
   "cell_type": "markdown",
   "id": "3258213d",
   "metadata": {},
   "source": [
    "### 0.) Background"
   ]
  },
  {
   "cell_type": "markdown",
   "id": "4d6174c1",
   "metadata": {},
   "source": [
    "Now that we have our model generated and stored as pickle file, we need to start serving it back to Snowflake. \n",
    "Typically you'd want to do this via some kind of HTTP interface that can be called.\n",
    "\n",
    "Any Flask application will do the job here, hosted on any of the three big cloud providers (and only the three, as we need the API integration). In this notebook we will exemplarily do this for Azure. If you are an AWS user, have a look at the Snowflake GitHUB repo: https://github.com/Snowflake-Labs/sfguide-external-functions-examples"
   ]
  },
  {
   "cell_type": "markdown",
   "id": "a1b33513",
   "metadata": {},
   "source": [
    "![](imgs/external-functions-overview-07.png)"
   ]
  },
  {
   "cell_type": "markdown",
   "id": "bc2ded06",
   "metadata": {},
   "source": [
    "(Image copyright Snowflake: https://docs.snowflake.com/en/sql-reference/external-functions-introduction.html)"
   ]
  },
  {
   "cell_type": "markdown",
   "id": "2eac877c",
   "metadata": {},
   "source": [
    "### 1.) Development of HTTP function that reacts locally"
   ]
  },
  {
   "cell_type": "markdown",
   "id": "dbd47672",
   "metadata": {},
   "source": [
    "See here for our Azure function HTTP code. It reacts to HTTP requests and returns our model inference."
   ]
  },
  {
   "cell_type": "code",
   "execution_count": null,
   "id": "b3aa9222",
   "metadata": {},
   "outputs": [],
   "source": [
    "import json\n",
    "import joblib\n",
    "import logging\n",
    "\n",
    "from sklearn.ensemble import RandomForestRegressor\n",
    "\n",
    "import azure.functions as func\n",
    "\n",
    "\n",
    "filename = 'BPPredictor/randomforest_classifier.joblib.pkl'\n",
    "rfr = joblib.load(filename)\n",
    "\n",
    "def main(req: func.HttpRequest) -> func.HttpResponse:\n",
    "\n",
    "    data = req.params.get('data')\n",
    "    if not data:\n",
    "        try:\n",
    "            req_body = req.get_json()\n",
    "        except ValueError:\n",
    "            pass\n",
    "        else:\n",
    "            data = req_body.get('data')\n",
    "\n",
    "    if data:\n",
    "\n",
    "        retVal = []\n",
    "        for i, val in enumerate(data):\n",
    "\n",
    "            ## Two arguments in our call expected, sf_ext_fct(sex_agrgrp_position, bp_before)\n",
    "            sex_agrgrp_position = val[1]\n",
    "            bp_before = val[2]\n",
    "\n",
    "            retVal.append([i, rfr.predict([[sex_agrgrp_position, bp_before]])[0]])\n",
    "    \n",
    "        ## See here for format: https://docs.snowflake.com/en/sql-reference/external-functions-data-format.html\n",
    "        return func.HttpResponse(\n",
    "            json.dumps({\"data\": retVal}),\n",
    "            mimetype = 'application/json',\n",
    "            charset = 'utf-8'\n",
    "        )\n",
    "\n",
    "    else:\n",
    "        return func.HttpResponse(\n",
    "             \"Please pass data in the request body.\",\n",
    "             status_code = 400\n",
    "        )\n"
   ]
  },
  {
   "cell_type": "markdown",
   "id": "7f97c7aa",
   "metadata": {},
   "source": [
    "It is easiest to generate the code above using Visual Studio with Azure plugin.\n",
    "![](imgs/azure-fct-setup.png)"
   ]
  },
  {
   "cell_type": "markdown",
   "id": "d81250c2",
   "metadata": {},
   "source": [
    "After creation of your function, you can locally develop and debug till you are happy with the result.\n",
    "\n",
    "![](imgs/azure-fct-local-run.png)"
   ]
  },
  {
   "cell_type": "markdown",
   "id": "56e95ea1",
   "metadata": {},
   "source": [
    "### 2.) Deploy to Azure & add API Management"
   ]
  },
  {
   "cell_type": "markdown",
   "id": "affadc6a",
   "metadata": {},
   "source": [
    "You have two options to deploy your function to Azure now.\n",
    "- Option 1: Via Visual Studio code\n",
    "- Option 2: Via Github Actions for continous deployment.\n",
    "\n",
    "Both options are very well described by Snowflake here, https://docs.snowflake.com/en/sql-reference/external-functions-creating-azure-ui.html."
   ]
  },
  {
   "cell_type": "markdown",
   "id": "f53da3b9",
   "metadata": {},
   "source": [
    "Following the deployment, your application will be available via HTTP. In a next step you have to deploy an API Management \n",
    "solution which takes care of authentication, rate limiting and integration with Snowflake. Again this is very well described here, https://docs.snowflake.com/en/sql-reference/external-functions-creating-azure-ui.html."
   ]
  },
  {
   "cell_type": "markdown",
   "id": "dc737d2a",
   "metadata": {},
   "source": [
    "### 3.) Configure Snowflake for inference\n",
    "Once your model is deployed to a lamba/function service, you need to configure the API integration with Snowflake. For Azure, this works as below. You'll need your tenant id and the application id, which will be created by the API management service.\n",
    "\n",
    "Make sure to call **describe** on the created api integration object to authenticate the service. If your company setting doesn't allow for this, check for api_key parameters."
   ]
  },
  {
   "cell_type": "code",
   "execution_count": null,
   "id": "208914bc",
   "metadata": {},
   "outputs": [],
   "source": [
    "%%sql\n",
    "create or replace api integration az_function_integration\n",
    "    api_provider = azure_api_management\n",
    "    azure_tenant_id = '<tenant-id>'\n",
    "    azure_ad_application_id = '<azure-ad-application-id>'\n",
    "    api_allowed_prefixes = ('https://<endpoint>.azure-api.net/')\n",
    "    enabled = true;\n",
    "    \n",
    "--- Look out for consent URL here and click it \n",
    "describe api integration az_function_integration;"
   ]
  },
  {
   "cell_type": "markdown",
   "id": "f414cfe2",
   "metadata": {},
   "source": [
    "Now that the API integration is created, we can start creating our external function."
   ]
  },
  {
   "cell_type": "code",
   "execution_count": null,
   "id": "0c8d22c1",
   "metadata": {},
   "outputs": [],
   "source": [
    "create or replace external function sf_ext_fct_bp_after_predictor(parameter1 int)\n",
    "    returns varchar\n",
    "    api_integration = az_function_integration\n",
    "    as 'https://<endpoint>.azure-api.net/<endpoint-url>';"
   ]
  },
  {
   "cell_type": "markdown",
   "id": "a8afa99b",
   "metadata": {},
   "source": [
    "Finally give it a call and see if everything works."
   ]
  },
  {
   "cell_type": "code",
   "execution_count": null,
   "id": "e10a64ca",
   "metadata": {},
   "outputs": [],
   "source": [
    "select sf_ext_fct_bp_after_predictor(0, 155);"
   ]
  },
  {
   "cell_type": "markdown",
   "id": "12678f3d",
   "metadata": {},
   "source": [
    "### 4.) Enjoy :)\n",
    "Now that we are done deploying the model, we can use it in our pipeline."
   ]
  }
 ],
 "metadata": {
  "kernelspec": {
   "display_name": "Python 3 (ipykernel)",
   "language": "python",
   "name": "python3"
  },
  "language_info": {
   "codemirror_mode": {
    "name": "ipython",
    "version": 3
   },
   "file_extension": ".py",
   "mimetype": "text/x-python",
   "name": "python",
   "nbconvert_exporter": "python",
   "pygments_lexer": "ipython3",
   "version": "3.10.6"
  }
 },
 "nbformat": 4,
 "nbformat_minor": 5
}
